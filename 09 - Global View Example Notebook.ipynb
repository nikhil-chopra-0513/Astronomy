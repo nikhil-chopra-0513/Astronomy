{
  "cells": [
    {
      "cell_type": "markdown",
      "source": [
        "# Global View Example Notebook\n",
        "\n",
        "Large parts of this notebook are directly taken from this [tutorial](https://docs.lightkurve.org/tutorials/3-science-examples/exoplanets-machine-learning-preprocessing.html) from the Lighkurve website; and the tutorial itself is inspired by this [paper](https://arxiv.org/pdf/1712.05044.pdf). "
      ],
      "metadata": {
        "id": "cAcUvyWFGO3r"
      }
    },
    {
      "cell_type": "markdown",
      "source": [
        "### 1.Imports"
      ],
      "metadata": {
        "id": "6FcNdf9sHR2o"
      }
    },
    {
      "cell_type": "code",
      "execution_count": 17,
      "metadata": {
        "id": "lIYdn1woOS1n"
      },
      "outputs": [],
      "source": [
        "import lightkurve as lk\n",
        "import numpy as np"
      ]
    },
    {
      "cell_type": "markdown",
      "source": [
        "### 2. Downloading the specific lightcurve and Creating the Relevant Data\n",
        "\n",
        "*   List item\n",
        "*   List item\n",
        "\n"
      ],
      "metadata": {
        "id": "grBtyHV-HW-K"
      }
    },
    {
      "cell_type": "code",
      "source": [
        "lcs = lk.search_lightcurve('KIC 757450', author='Kepler', cadence='long').download_all()"
      ],
      "metadata": {
        "id": "MOsb8fmXGtWL"
      },
      "execution_count": 18,
      "outputs": []
    },
    {
      "cell_type": "markdown",
      "source": [
        "note: in the next cell, these values are not arbitrary, on the contrary they are stellar parameters for the specific star (and so will be different from star to star). These are found from the Kepler Cumulative Table"
      ],
      "metadata": {
        "id": "8y9xDLqsHeMp"
      }
    },
    {
      "cell_type": "code",
      "source": [
        "period, t0, duration_hours = 8.88492, 134.452, 2.078"
      ],
      "metadata": {
        "id": "Y37JUvUTGwg6"
      },
      "execution_count": 19,
      "outputs": []
    },
    {
      "cell_type": "markdown",
      "source": [
        "note: the lcs.stitch() performs stitching of all the quarters of data so that it becomes a single long time-series instead of segregated quarters of data"
      ],
      "metadata": {
        "id": "UpD1B519Hxxc"
      }
    },
    {
      "cell_type": "markdown",
      "source": [
        "### 3. Processing"
      ],
      "metadata": {
        "id": "7UPXHaqKIl6v"
      }
    },
    {
      "cell_type": "code",
      "source": [
        "lc_raw = lcs.stitch()\n",
        "lc_raw.flux.shape"
      ],
      "metadata": {
        "id": "U_Bm8fIRGxDj",
        "outputId": "f22b9b40-7415-4c92-b0c3-1e5b14141660",
        "colab": {
          "base_uri": "https://localhost:8080/"
        }
      },
      "execution_count": 20,
      "outputs": [
        {
          "output_type": "execute_result",
          "data": {
            "text/plain": [
              "(65031,)"
            ]
          },
          "metadata": {},
          "execution_count": 20
        }
      ]
    },
    {
      "cell_type": "markdown",
      "source": [
        "note: here we remove the outliers with specific criteria"
      ],
      "metadata": {
        "id": "cjX5-XWIH9T7"
      }
    },
    {
      "cell_type": "code",
      "source": [
        "lc_clean = lc_raw.remove_outliers(sigma=20, sigma_upper=4)"
      ],
      "metadata": {
        "id": "9BFpbNeJHCjN"
      },
      "execution_count": 21,
      "outputs": []
    },
    {
      "cell_type": "markdown",
      "source": [
        "from the tutorial: \"We have to mask the transit to avoid self-subtraction the genuine planet signal when we flatten the lightcurve. We have to do a hack to find where the time series should be masked.\""
      ],
      "metadata": {
        "id": "f-flVW0RID-x"
      }
    },
    {
      "cell_type": "code",
      "source": [
        "temp_fold = lc_clean.fold(period, epoch_time=t0)\n",
        "fractional_duration = (duration_hours / 24.0) / period\n",
        "phase_mask = np.abs(temp_fold.phase.value) < (fractional_duration * 1.5)\n",
        "transit_mask = np.in1d(lc_clean.time.value, temp_fold.time_original.value[phase_mask])"
      ],
      "metadata": {
        "id": "H3zBchd_HERr"
      },
      "execution_count": 22,
      "outputs": []
    },
    {
      "cell_type": "markdown",
      "source": [
        "from the tutorial: \"Now flatten the mask, but interpolate the trend over the points possessing the transit signal of interest.\""
      ],
      "metadata": {
        "id": "wZckKD9eIJnI"
      }
    },
    {
      "cell_type": "code",
      "source": [
        "lc_flat, trend_lc = lc_clean.flatten(return_trend=True, mask=transit_mask)"
      ],
      "metadata": {
        "id": "5nrW9QFbHG-r"
      },
      "execution_count": 23,
      "outputs": []
    },
    {
      "cell_type": "markdown",
      "source": [
        "note: now we are folding the lightcurve around a specific period with a give epoch"
      ],
      "metadata": {
        "id": "aqUkCvYSIPR4"
      }
    },
    {
      "cell_type": "code",
      "source": [
        "lc_fold = lc_flat.fold(period, epoch_time=t0)"
      ],
      "metadata": {
        "id": "HrHO2CiYHIlJ"
      },
      "execution_count": 24,
      "outputs": []
    },
    {
      "cell_type": "code",
      "source": [
        "lc_global = lc_fold.bin(time_bin_size=0.005).normalize() - 1\n",
        "lc_global = (lc_global / np.abs(lc_global.flux.min()) ) * 2.0 + 1\n",
        "lc_global.flux.shape"
      ],
      "metadata": {
        "id": "Rzqd1-n0HKUh",
        "outputId": "2746cfd9-2197-4da9-f3dc-4c8b0b703bcd",
        "colab": {
          "base_uri": "https://localhost:8080/"
        }
      },
      "execution_count": 25,
      "outputs": [
        {
          "output_type": "execute_result",
          "data": {
            "text/plain": [
              "(1777,)"
            ]
          },
          "metadata": {},
          "execution_count": 25
        }
      ]
    },
    {
      "cell_type": "code",
      "source": [
        "lc_global.scatter();"
      ],
      "metadata": {
        "id": "NFpvFS_0HLyO",
        "outputId": "f1b147c1-91f8-4574-a419-778a7d3f3a90",
        "colab": {
          "base_uri": "https://localhost:8080/",
          "height": 387
        }
      },
      "execution_count": 26,
      "outputs": [
        {
          "output_type": "display_data",
          "data": {
            "text/plain": [
              "<Figure size 848.5x400 with 1 Axes>"
            ],
            "image/png": "[encoded data removed]"
          },
          "metadata": {}
        }
      ]
    },
    {
      "cell_type": "markdown",
      "source": [
        "### 4. Key Takeaways\n",
        "\n",
        "Here we can see we have a nicely defined drop in the light flux, however there are still a few problems with this curve: each curve will not have the same amount of data points; we will show how to deal with this in the following notebook"
      ],
      "metadata": {
        "id": "qyqEidTFIdv2"
      }
    }
  ],
  "metadata": {
    "colab": {
      "name": "scratchpad",
      "provenance": []
    },
    "kernelspec": {
      "display_name": "Python 3",
      "name": "python3"
    }
  },
  "nbformat": 4,
  "nbformat_minor": 0
}